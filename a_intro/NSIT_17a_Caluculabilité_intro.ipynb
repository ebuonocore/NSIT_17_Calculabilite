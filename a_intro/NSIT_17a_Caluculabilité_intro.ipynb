{
 "cells": [
  {
   "cell_type": "markdown",
   "metadata": {},
   "source": [
    "<div style=\"width:100%;border-collapse:separate;border:solid 2px;border-radius:14px;\">\n",
    "    <div style=\"display:flex;\">\n",
    "        <div style=\"display:inline;width:5%;\"></div>\n",
    "        <div style=\"display:inline;width:15%;\">NSIT</div>\n",
    "        <div style=\"display:inline;width:15%;\">16a</div>\n",
    "        <div style=\"display:inline;width:70%;text-align:right;\"><b>Langages et programmation</b></div>\n",
    "        <div style=\"display:inline;width:5%;\"></div>\n",
    "    </div>\n",
    "    <div  style=\"display: flex;background-color:#EEE\">\n",
    "        <p style=\"width:100%;text-align:center;\">Calculabilité,décidabilité.</p>\n",
    "    </div>\n",
    "    <div  style=\"display: flex;\">\n",
    "        <p style=\"width:100%;text-align:center;\">Programme en tant que donnée. Problème de\n",
    "l’arrêt</p>\n",
    "    </div>\n",
    "</div>"
   ]
  },
  {
   "cell_type": "markdown",
   "metadata": {},
   "source": [
    "<div class = \"alert alert-success\">\n",
    "    \n",
    "**Objectifs de la séquence:** \n",
    "    \n",
    "- Comprendre que tout programme est aussi une donnée.\n",
    "- Montrer que le problème de l’arrêt est indécidable.\n",
    "</div>"
   ]
  },
  {
   "cell_type": "markdown",
   "metadata": {},
   "source": [
    "![Moto_arret](https://github.com/ebuonocore/NSIT_17_Calculabilite/blob/main/a_intro/joebarteam_stop.png?raw=true)\n",
    "<span style=\"font-family:Comic Sans MS; color:gray; font-size: x-small;float:right \">Source: <a href=\"https://www.pourlascience.fr/sd/mathematiques/un-nouveau-record-de-decimales-de-pi-3871.php\">Joe Bar Team</a></span> "
   ]
  },
  {
   "cell_type": "markdown",
   "metadata": {},
   "source": [
    "<div class = \"alert alert-info\">\n",
    "    \n",
    "**Sommaire :**\n",
    "- <a href=#problematique>Problématique</a> \n",
    "- <a href=#while>Détection de boucles 'while'</a> \n",
    "- <a href=#rec>Détection de fonctions récursives</a> \n",
    "- <a href=#Turing>La réponse d'Alain Turing</a> "
   ]
  },
  {
   "cell_type": "markdown",
   "metadata": {},
   "source": [
    "<div id=\"problematique\"></div>\n",
    "\n",
    "# Problématique"
   ]
  },
  {
   "cell_type": "markdown",
   "metadata": {},
   "source": [
    "Petit rappel sur la notion de correction d'un programme.  \n",
    "Un  programme est **correct** si:\n",
    "- **Correction partielle:** il réalise ce qu'on attend de lui\n",
    "- **Terminaison:** il s'arrêt un jour. (Si possible dans une délai satisfaisant à l'échelle de l'humanité)\n",
    "\n",
    "En effet, on peut très bien faire un programme qui calcule par exemple les décimales de $\\displaystyle \\pi$ mais qui ne s'arrête jamais. Ce dernier ne serait que partiellement correct."
   ]
  },
  {
   "cell_type": "markdown",
   "metadata": {},
   "source": [
    "![decimales_pi](https://github.com/ebuonocore/NSIT_17_Calculabilite/blob/main/a_intro/pi.png?raw=true)\n",
    "<span style=\"font-family:Comic Sans MS; color:gray; font-size: x-small;float:right \">Source: <a href=\"https://www.pourlascience.fr/sd/mathematiques/un-nouveau-record-de-decimales-de-pi-3871.php\">pourlascience.fr</a>(De nouvelles décimales de π)</span> "
   ]
  },
  {
   "cell_type": "markdown",
   "metadata": {},
   "source": [
    "Nous allons nous intéresser au problème de la terminaison des programmes:  \n",
    "\n",
    "<div class = \"alert alert-success\">\n",
    "  \n",
    "Est-il  possible d'analyser un code et d'en conclure s'il va s'arreter ou non?"
   ]
  },
  {
   "cell_type": "markdown",
   "metadata": {},
   "source": [
    "En cours, nous avons identifié au moins deux cas où un programme pourrait tomber dans une boucle infinie:\n",
    "- Un invariant de boucle qui n'évolue pas vers un état permettant de sortir d'une boucle $while$\n",
    "- Un programme récursif où les cas de base ne sont jamais atteints\n",
    "\n",
    "Dans un premier temps, nous allons voir s'il est possible de détecter la présence de ces indices dans différents programmes.  \n",
    "\n",
    "La fonction $récupère\\_programme()$ ci-dessous va nous permettre de récupérer différents programmes Python stockés dans un répertoire d'un Github.  \n",
    "Les programmes portent des noms allant de $a.py$, $b.py$ ... à $k.py$.  "
   ]
  },
  {
   "cell_type": "code",
   "execution_count": null,
   "metadata": {},
   "outputs": [],
   "source": [
    "# Importation des données depuis un fichier hébergé sur Github\n",
    "import urllib.request\n",
    "\n",
    "def récupère_programme(fichier:str)->str:\n",
    "    \"\"\" Renvoie la liste des lignes d'un programme.\n",
    "        Le paramètre fichier désigne le nom du fichier à ouvrir dans le répertoire Github\n",
    "        sans l'extension .py\n",
    "    \"\"\"\n",
    "    repertoire = \"https://github.com/ebuonocore/NSIT_17_Calculabilite/blob/main/a_intro/progs/\"\n",
    "    # Construction du chemin complet vers le fichier\n",
    "    destination = repertoire + fichier + \".py?raw=true\"\n",
    "    req = urllib.request.Request(destination)\n",
    "    # Ouverture du fichier\n",
    "    with urllib.request.urlopen(req) as response:\n",
    "        donnees = response.read().decode(\"utf8\") # Lecture des données\n",
    "    lignes = donnees.split(\"\\n\") # Construction de la liste des lignes du fichier\n",
    "    return lignes"
   ]
  },
  {
   "cell_type": "markdown",
   "metadata": {},
   "source": [
    "Les lignes suivantes permettent d'afficher le programme $a.py$  \n",
    "Faites l'essai avec d'autres valeurs du paramètre pour afficher $b.py$ ou $k.py$"
   ]
  },
  {
   "cell_type": "code",
   "execution_count": null,
   "metadata": {},
   "outputs": [],
   "source": [
    "lignes = récupère_programme(\"a\")\n",
    "print(*lignes, sep=\"\\n\") # Affichage des lignes du fichier récupéré"
   ]
  },
  {
   "cell_type": "markdown",
   "metadata": {},
   "source": [
    "<div id=\"while\"></div>\n",
    "\n",
    "# Détection de boucles 'while'"
   ]
  },
  {
   "cell_type": "markdown",
   "metadata": {},
   "source": [
    "Complétez la fonction $détecte\\_while()$ qui prend le nom d'un programme en paramètre (sans l'extension .py) et qui renvoie $True$ si l'instruction $while$ est présente.  \n",
    "Sinon, elle renvoie $False$"
   ]
  },
  {
   "cell_type": "code",
   "execution_count": null,
   "metadata": {},
   "outputs": [],
   "source": [
    "def détecte_while(fichier:str)->bool:\n",
    "    \"\"\" Prend le nom d'un programme en paramètre (sans l'extension .py) \n",
    "        Renvoie 𝑇𝑟𝑢𝑒 si l'instruction 𝑤ℎ𝑖𝑙𝑒 est présente en dehors des commentaires et des spécifications.\n",
    "    \"\"\"\n",
    "    lignes = récupère_programme(fichier)\n",
    "    ..."
   ]
  },
  {
   "cell_type": "code",
   "execution_count": null,
   "metadata": {},
   "outputs": [],
   "source": [
    "# Lance la détection de boucle while sur l'ensemble des fichiers du répertoire\n",
    "print(\"Détection de la présence de boucle while dans le code\")\n",
    "for indice_fichier in range(11):\n",
    "    nom_fichier = chr(ord('a') + indice_fichier)\n",
    "    print(nom_fichier+\".py : \", détecte_while(nom_fichier))"
   ]
  },
  {
   "cell_type": "markdown",
   "metadata": {},
   "source": [
    "<details style=\"details[open] summary::-webkit-details-marker { color:#eaeaea; background:#f7f7f7; outline: 1px\n",
    "solid #ADCA48;}\">\n",
    "<summary style=\"summary::-webkit-details-marker { color:#ADCA48; background:#e2ecda;} \">\n",
    "    &#x1F511; Réponse attendue</summary>\n",
    "Si votre programme répond positiviement aux programmes $c.py$ et $f.py$ c'est que vous détecter des 'faux-positifs' dans les commentaires et les spécifications.<br>\n",
    "Le seul programme à surveiller ici est $k.py$\n",
    "</details>"
   ]
  },
  {
   "cell_type": "markdown",
   "metadata": {},
   "source": [
    "<details style=\"details[open] summary::-webkit-details-marker { color:#eaeaea; background:#f7f7f7; outline: 1px\n",
    "solid #ADCA48;}\">\n",
    "<summary style=\"summary::-webkit-details-marker { color:#ADCA48; background:#e2ecda;} \">\n",
    "    &#x2705; Correction(s)</summary>\n",
    "Une première version qui détecte tous les 'while', même ceux qui sont inoffensifs dans les commentaires:\n",
    "<code>\n",
    "def détecte_while(fichier:str)->bool:\n",
    "    lignes = récupère_programme(fichier)\n",
    "    for ligne in lignes:\n",
    "        if 'while' in ligne:\n",
    "            return True\n",
    "    return False\n",
    "</code> \n",
    "    \n",
    "Ne tient pas compte de la présence de la chaîne 'while' dans les commentaires:\n",
    "<code>\n",
    "def détecte_while(fichier:str)->bool:\n",
    "    lignes = récupère_programme(fichier)\n",
    "    for ligne in lignes:\n",
    "        ligne_code = ligne.split('#')[0]\n",
    "        if 'while' in ligne_code:\n",
    "            return True\n",
    "    return False\n",
    "</code> \n",
    "    \n",
    "Ne tient pas compte de la présence de la chaîne 'while' dans les spécifications:\n",
    "<code>\n",
    "def détecte_while(fichier:str)->bool:\n",
    "    lignes = récupère_programme(fichier)\n",
    "    spécifications = False\n",
    "    for ligne in lignes:\n",
    "        ligne_code = ligne.split('#')[0]\n",
    "        if \"\\\\\"\\\\\"\\\\\"\" in ligne_code:\n",
    "            spécifications = not spécifications\n",
    "        if not spécifications:\n",
    "            if 'while' in ligne_code:\n",
    "                return True\n",
    "    return False\n",
    "</code> \n",
    "</details>"
   ]
  },
  {
   "cell_type": "markdown",
   "metadata": {},
   "source": [
    "<div id=\"rec\"></div>\n",
    "\n",
    "# Détection de fonctions récursives"
   ]
  },
  {
   "cell_type": "markdown",
   "metadata": {},
   "source": [
    "Pour faire fonctionner le programme suivant, nous allons avoir besoin de la fonction $indentation()$ qui renvoie la position du premier caractère qui n'est pas un espace dans une ligne:"
   ]
  },
  {
   "cell_type": "code",
   "execution_count": null,
   "metadata": {},
   "outputs": [],
   "source": [
    "def indentation(ligne:str)->int:\n",
    "    \"\"\" Renvoie la position du premier caractère qui n'est pas un espace dans une ligne\n",
    "        >>> indentation(\"    def ma_fonction():\")\n",
    "        4\n",
    "    \"\"\"\n",
    "    ..."
   ]
  },
  {
   "cell_type": "markdown",
   "metadata": {},
   "source": [
    "<details style=\"details[open] summary::-webkit-details-marker { color:#eaeaea; background:#f7f7f7; outline: 1px\n",
    "solid #ADCA48;}\">\n",
    "<summary style=\"summary::-webkit-details-marker { color:#ADCA48; background:#e2ecda;} \">\n",
    "    &#x2705; Correction(s)</summary>\n",
    "Une première version qui détecte tous les 'while', même ceux qui sont inoffensifs dans les commentaires:\n",
    "<code>\n",
    "def indentation(ligne:str)->int:\n",
    "    for i in range(len(ligne)):\n",
    "        if ligne[i] != \" \":\n",
    "            return i\n",
    "    return 0\n",
    "</code> "
   ]
  },
  {
   "cell_type": "markdown",
   "metadata": {},
   "source": [
    "On donne la fonction $détecte\\_rec()$ qui prend le nom d'un fichier en paramètre (sans l'extension .py), explore chacune des fonctions définie, trouve son nom et recherche la présence d'un appel récursif.  \n",
    "Pour mieux en comprendre le fonctionnement, vous pouvez vous référer aux descriptions des méthodes <a href=\"https://www.w3schools.com/python/ref_string_find.asp\">$find()$</a> et <a href=\"https://www.w3schools.com/python/ref_string_index.asp\">$index()$</a> qui permettent de vérifier la présence ou la position d'une chaîne de caractère."
   ]
  },
  {
   "cell_type": "code",
   "execution_count": null,
   "metadata": {},
   "outputs": [],
   "source": [
    "def détecte_rec(fichier:str)->bool:\n",
    "    \"\"\" Prend le nom d'un programme en paramètre (sans l'extension .py) \n",
    "        Renvoie 𝑇𝑟𝑢𝑒 si un appel récursif est présent dans le programme.\n",
    "    \"\"\"\n",
    "    lignes = récupère_programme(fichier)\n",
    "    spécifications = False\n",
    "    cherche_fonction = False\n",
    "    indentation_fonction = 0\n",
    "    for ligne in lignes:\n",
    "        if cherche_fonction:\n",
    "            ligne_code = ligne.split('#')[0]\n",
    "            if \"\\\"\\\"\\\"\" in ligne_code:\n",
    "                spécifications = not spécifications\n",
    "            if not spécifications:\n",
    "                if nom_fonction in ligne_code:\n",
    "                    # print(nom_fonction,\"trouvé\")\n",
    "                    return True\n",
    "        # Arrête la recherche si l'indentation retombe par rapport à la definition de la fonction\n",
    "        if indentation(ligne) <= indentation_fonction:\n",
    "            cherche_fonction = False\n",
    "        # Recherche le nom de la fonction qui vient d'être définie\n",
    "        if ligne.find(\"def\")!=-1 and ligne.find(\"(\")!=-1:\n",
    "            fin_nom = ligne.index(\"(\")\n",
    "            debut_nom = ligne.index(\"def \") + 4\n",
    "            nom_fonction = ligne[debut_nom:fin_nom]\n",
    "            cherche_fonction = True        \n",
    "    return False"
   ]
  },
  {
   "cell_type": "code",
   "execution_count": null,
   "metadata": {},
   "outputs": [],
   "source": [
    "# Lance la détection d'appels récursifs sur l'ensemble des fichiers du répertoire\n",
    "print(\"Détection de la présence de fonction récursive dans le code\")\n",
    "for indice_fichier in range(11):\n",
    "    nom_fichier = chr(ord('a') + indice_fichier)\n",
    "    print(nom_fichier+\".py : \", détecte_rec(nom_fichier))"
   ]
  },
  {
   "cell_type": "markdown",
   "metadata": {},
   "source": [
    "Remarque: En enlevant le commentaire devant $print(nom\\_fonction,\"trouvé\")$ dans la fonction $détecte\\_rec()$, vous pouvez faire apparaitre les noms des fonctions suspectes trouvées."
   ]
  },
  {
   "cell_type": "markdown",
   "metadata": {},
   "source": [
    "<div id=\"Turing\"></div>\n",
    "\n",
    "# La réponse d'Alain Turing"
   ]
  },
  {
   "cell_type": "markdown",
   "metadata": {},
   "source": [
    "<div class = \"alert alert-info\">\n",
    "    Nous venons de voir qu'un programme informatique peut être analysé, de la même façon qu'un simple fichier texte afin de dépister des risques pour sa terminaison.<br>\n",
    "    Ainsi, un <b>programme peut prendre un autre programme en paramètre</b> pour l'analyser.<br>  \n",
    "Mais ça, nous l'avions déjà un peu abordé avec la programmation fonctionnelle."
   ]
  },
  {
   "cell_type": "markdown",
   "metadata": {},
   "source": [
    "![arrêt_a](https://github.com/ebuonocore/NSIT_17_Calculabilite/blob/main/a_intro/arret_a.png?raw=true)"
   ]
  },
  {
   "cell_type": "markdown",
   "metadata": {},
   "source": [
    "<div class = \"alert alert-danger\">\n",
    "    Mais on devine que faire la <b>preuve</b> de la terminaison ou de la non-terminaison d'un programme va être beaucoup plus complexe."
   ]
  },
  {
   "cell_type": "markdown",
   "metadata": {},
   "source": [
    "La fonction suivante contient une boucle $while$.  \n",
    "A priori pour toute valeur entière passée en argument, elle devrait bien se terminer."
   ]
  },
  {
   "cell_type": "code",
   "execution_count": 76,
   "metadata": {},
   "outputs": [
    {
     "name": "stdout",
     "output_type": "stream",
     "text": [
      "Jusqu'ici tout va bien\n",
      "Jusqu'ici tout va bien\n",
      "Jusqu'ici tout va bien\n",
      "Jusqu'ici tout va bien\n",
      "Jusqu'ici tout va bien\n",
      "C'est fini ;)\n"
     ]
    }
   ],
   "source": [
    "def une_bonne_boucle(n):\n",
    "    i = 0\n",
    "    while i!=n:\n",
    "        print(\"Jusqu'ici tout va bien\")\n",
    "        i += 1\n",
    "    print(\"C'est fini ;)\")\n",
    "\n",
    "une_bonne_boucle(5)    "
   ]
  },
  {
   "cell_type": "markdown",
   "metadata": {},
   "source": [
    "Par contre, avec un flottant, le même programme va faire transpirer l'ordinateur.  \n",
    "*(Vous avez un petit bouton carré* ⬛ *dans le menu en haut pour arrêter le programme...)*   "
   ]
  },
  {
   "cell_type": "code",
   "execution_count": null,
   "metadata": {},
   "outputs": [],
   "source": [
    "une_bonne_boucle(5.1)  "
   ]
  },
  {
   "cell_type": "markdown",
   "metadata": {},
   "source": [
    "Analyser le code ne suffit pas. Il faut prendre en compte l'environnement dans lequel elle s'exécute: les valeurs des arguments."
   ]
  },
  {
   "cell_type": "markdown",
   "metadata": {},
   "source": [
    "![arrêt_b](https://github.com/ebuonocore/NSIT_17_Calculabilite/blob/main/a_intro/arret_b.png?raw=true)\n",
    "![arrêt_c](https://github.com/ebuonocore/NSIT_17_Calculabilite/blob/main/a_intro/arret_c.png?raw=true)"
   ]
  },
  {
   "cell_type": "markdown",
   "metadata": {},
   "source": [
    "<div class = \"alert alert-success\">\n",
    "    Nous allons voir quelle réponse radicale <b>Alain Turing</b> a apporté au problème de l'arrêt:<br>\n",
    "D'une façon générale, est-il possible d'écrire un programme $halt()$ qui prend en paramètre une fonction et ses paramètres qui détermine si notre fonction va s'arrêter ou pas?"
   ]
  },
  {
   "cell_type": "markdown",
   "metadata": {},
   "source": [
    "Je vous invite à voir les deux vidéos:  \n",
    "La première est en anglais mais ce n'est pas la langue qui pose un problème de compréhension...  \n",
    "La seconde permettra d'enfoncer le clou, c'est tellement délicat comme démonstration que deux approches sont nécessaires à mon avis."
   ]
  },
  {
   "cell_type": "code",
   "execution_count": 2,
   "metadata": {},
   "outputs": [
    {
     "data": {
      "image/jpeg": "[encoded data removed]",
      "text/html": [
       "\n",
       "        <iframe\n",
       "            width=\"800\"\n",
       "            height=\"600\"\n",
       "            src=\"https://www.youtube.com/embed/92WHN-pAFCs\"\n",
       "            frameborder=\"0\"\n",
       "            allowfullscreen\n",
       "        ></iframe>\n",
       "        "
      ],
      "text/plain": [
       "<IPython.lib.display.YouTubeVideo at 0x6015e80>"
      ]
     },
     "execution_count": 2,
     "metadata": {},
     "output_type": "execute_result"
    }
   ],
   "source": [
    "# Exécutez ce code pour voir la vidéo\n",
    "from IPython.display import YouTubeVideo\n",
    "YouTubeVideo('92WHN-pAFCs', width = 800, height = 600)\n",
    "# Proof That Computers Can't Do Everything (The Halting Problem)(7min51s) "
   ]
  },
  {
   "cell_type": "code",
   "execution_count": 1,
   "metadata": {},
   "outputs": [
    {
     "data": {
      "image/jpeg": "[encoded data removed]",
      "text/html": [
       "\n",
       "        <iframe\n",
       "            width=\"800\"\n",
       "            height=\"600\"\n",
       "            src=\"https://www.youtube.com/embed/13O1qhX4Bqo\"\n",
       "            frameborder=\"0\"\n",
       "            allowfullscreen\n",
       "        ></iframe>\n",
       "        "
      ],
      "text/plain": [
       "<IPython.lib.display.YouTubeVideo at 0x60156d8>"
      ]
     },
     "execution_count": 1,
     "metadata": {},
     "output_type": "execute_result"
    }
   ],
   "source": [
    "# Exécutez ce code pour voir la vidéo\n",
    "from IPython.display import YouTubeVideo\n",
    "YouTubeVideo('13O1qhX4Bqo', width = 800, height = 600)\n",
    "# Calculabilité : le problème de l'arrêt par le professeur Karré(4min50s) "
   ]
  },
  {
   "cell_type": "markdown",
   "metadata": {},
   "source": [
    "---\n",
    "<p style=\"font-family:Comic Sans MS; text-align: center; color:gray; font-size: x-small; \">- Eric Buonocore. mai 2021 -<br></p>\n",
    "\n",
    "![Licence CC BY NC SA](https://licensebuttons.net/l/by-nc-sa/3.0/88x31.png)"
   ]
  }
 ],
 "metadata": {
  "kernelspec": {
   "display_name": "Python 3",
   "language": "python",
   "name": "python3"
  },
  "language_info": {
   "codemirror_mode": {
    "name": "ipython",
    "version": 3
   },
   "file_extension": ".py",
   "mimetype": "text/x-python",
   "name": "python",
   "nbconvert_exporter": "python",
   "pygments_lexer": "ipython3",
   "version": "3.7.3"
  }
 },
 "nbformat": 4,
 "nbformat_minor": 1
}
